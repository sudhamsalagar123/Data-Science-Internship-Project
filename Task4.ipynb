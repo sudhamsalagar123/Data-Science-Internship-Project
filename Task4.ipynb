{
  "cells": [
    {
      "cell_type": "markdown",
      "metadata": {
        "id": "view-in-github",
        "colab_type": "text"
      },
      "source": [
        "<a href=\"https://colab.research.google.com/github/sudhamsalagar123/Data-Science-Internship-Project/blob/main/Task4.ipynb\" target=\"_parent\"><img src=\"https://colab.research.google.com/assets/colab-badge.svg\" alt=\"Open In Colab\"/></a>"
      ]
    },
    {
      "cell_type": "code",
      "execution_count": null,
      "metadata": {
        "colab": {
          "base_uri": "https://localhost:8080/"
        },
        "id": "dsf_6H7tsEir",
        "outputId": "d8cf715b-29f5-43aa-ac7b-6808331a668d"
      },
      "outputs": [
        {
          "name": "stdout",
          "output_type": "stream",
          "text": [
            "Collecting pulp\n",
            "  Downloading pulp-3.1.1-py3-none-any.whl.metadata (1.3 kB)\n",
            "Downloading pulp-3.1.1-py3-none-any.whl (16.4 MB)\n",
            "\u001b[?25l   \u001b[90m━━━━━━━━━━━━━━━━━━━━━━━━━━━━━━━━━━━━━━━━\u001b[0m \u001b[32m0.0/16.4 MB\u001b[0m \u001b[31m?\u001b[0m eta \u001b[36m-:--:--\u001b[0m\r\u001b[2K   \u001b[91m━━━━━━━\u001b[0m\u001b[90m╺\u001b[0m\u001b[90m━━━━━━━━━━━━━━━━━━━━━━━━━━━━━━━━\u001b[0m \u001b[32m3.0/16.4 MB\u001b[0m \u001b[31m90.6 MB/s\u001b[0m eta \u001b[36m0:00:01\u001b[0m\r\u001b[2K   \u001b[91m━━━━━━━━━━━━━━━━━━━━━━━\u001b[0m\u001b[91m╸\u001b[0m\u001b[90m━━━━━━━━━━━━━━━━\u001b[0m \u001b[32m9.7/16.4 MB\u001b[0m \u001b[31m141.5 MB/s\u001b[0m eta \u001b[36m0:00:01\u001b[0m\r\u001b[2K   \u001b[91m━━━━━━━━━━━━━━━━━━━━━━━━━━━━━━━━━━━━━━━\u001b[0m\u001b[91m╸\u001b[0m \u001b[32m16.4/16.4 MB\u001b[0m \u001b[31m206.7 MB/s\u001b[0m eta \u001b[36m0:00:01\u001b[0m\r\u001b[2K   \u001b[91m━━━━━━━━━━━━━━━━━━━━━━━━━━━━━━━━━━━━━━━\u001b[0m\u001b[91m╸\u001b[0m \u001b[32m16.4/16.4 MB\u001b[0m \u001b[31m206.7 MB/s\u001b[0m eta \u001b[36m0:00:01\u001b[0m\r\u001b[2K   \u001b[90m━━━━━━━━━━━━━━━━━━━━━━━━━━━━━━━━━━━━━━━━\u001b[0m \u001b[32m16.4/16.4 MB\u001b[0m \u001b[31m91.6 MB/s\u001b[0m eta \u001b[36m0:00:00\u001b[0m\n",
            "\u001b[?25hInstalling collected packages: pulp\n",
            "Successfully installed pulp-3.1.1\n"
          ]
        }
      ],
      "source": [
        "!pip install pulp"
      ]
    },
    {
      "cell_type": "code",
      "execution_count": null,
      "metadata": {
        "id": "BGjHKpN3n1O4"
      },
      "outputs": [],
      "source": [
        "import pulp\n",
        "import pandas as pd\n",
        "import numpy as np\n",
        "import matplotlib.pyplot as plt\n",
        "import seaborn as sns\n",
        "from datetime import datetime"
      ]
    },
    {
      "cell_type": "code",
      "execution_count": null,
      "metadata": {
        "colab": {
          "base_uri": "https://localhost:8080/"
        },
        "id": "39YeGSvrn6i6",
        "outputId": "23996871-9537-411e-8375-3e85f6eb5e22"
      },
      "outputs": [
        {
          "name": "stdout",
          "output_type": "stream",
          "text": [
            "============================================================\n",
            "MANUFACTURING OPTIMIZATION PROJECT\n",
            "ABC Electronics - Production Planning\n",
            "============================================================\n"
          ]
        }
      ],
      "source": [
        "# Set style for better visualizations\n",
        "plt.style.use('seaborn-v0_8')\n",
        "sns.set_palette(\"husl\")\n",
        "\n",
        "print(\"=\" * 60)\n",
        "print(\"MANUFACTURING OPTIMIZATION PROJECT\")\n",
        "print(\"ABC Electronics - Production Planning\")\n",
        "print(\"=\" * 60)\n"
      ]
    },
    {
      "cell_type": "markdown",
      "metadata": {
        "id": "kaaaO35QsQQd"
      },
      "source": [
        "## Problem Description\n",
        "\"\"\"\n",
        "ABC Electronics manufactures three products: Smartphones, Tablets, and Laptops.\n",
        "The company wants to maximize profit while considering:\n",
        "- Limited raw materials\n",
        "- Production capacity constraints\n",
        "- Labor availability\n",
        "- Market demand limits\n",
        "- Storage capacity\n",
        "\n",
        "OBJECTIVE: Maximize total profit from production\n",
        "\"\"\""
      ]
    },
    {
      "cell_type": "code",
      "execution_count": null,
      "metadata": {
        "colab": {
          "base_uri": "https://localhost:8080/"
        },
        "id": "wcwm8JK3r6Ij",
        "outputId": "22d85044-ab86-4037-b6fb-d2b41b4cc0da"
      },
      "outputs": [
        {
          "name": "stdout",
          "output_type": "stream",
          "text": [
            "\n",
            "1. PROBLEM SETUP\n",
            "------------------------------\n"
          ]
        }
      ],
      "source": [
        "# Define problem parameters\n",
        "print(\"\\n1. PROBLEM SETUP\")\n",
        "print(\"-\" * 30)\n",
        "\n",
        "# Products\n",
        "products = ['Smartphone', 'Tablet', 'Laptop']\n"
      ]
    },
    {
      "cell_type": "code",
      "execution_count": null,
      "metadata": {
        "id": "zgFGfpqnsWrM"
      },
      "outputs": [],
      "source": [
        "# Profit per unit (in dollars)\n",
        "profit = {\n",
        "    'Smartphone': 150,\n",
        "    'Tablet': 200,\n",
        "    'Laptop': 400\n",
        "}"
      ]
    },
    {
      "cell_type": "code",
      "execution_count": null,
      "metadata": {
        "id": "rPQcAkNvsaa_"
      },
      "outputs": [],
      "source": [
        "# Resource requirements per unit\n",
        "# [Material (kg), Labor (hours), Storage (cubic feet)]\n",
        "resource_req = {\n",
        "    'Smartphone': [2, 3, 1],\n",
        "    'Tablet': [3, 4, 2],\n",
        "    'Laptop': [5, 6, 3]\n",
        "}"
      ]
    },
    {
      "cell_type": "code",
      "execution_count": null,
      "metadata": {
        "id": "89zFrxTRsel_"
      },
      "outputs": [],
      "source": [
        "# Available resources\n",
        "available_resources = {\n",
        "    'Material': 1000,  # kg\n",
        "    'Labor': 1500,     # hours\n",
        "    'Storage': 800     # cubic feet\n",
        "}"
      ]
    },
    {
      "cell_type": "code",
      "execution_count": null,
      "metadata": {
        "id": "kxNJARnFsiaj"
      },
      "outputs": [],
      "source": [
        "# Market demand limits (maximum units that can be sold)\n",
        "demand_limits = {\n",
        "    'Smartphone': 200,\n",
        "    'Tablet': 150,\n",
        "    'Laptop': 100\n",
        "}"
      ]
    },
    {
      "cell_type": "code",
      "execution_count": null,
      "metadata": {
        "colab": {
          "base_uri": "https://localhost:8080/"
        },
        "id": "ID15QnFUslxv",
        "outputId": "bbcc3d54-299b-47b1-d22c-290af4bb8a2a"
      },
      "outputs": [
        {
          "name": "stdout",
          "output_type": "stream",
          "text": [
            "Product Profit per Unit:\n",
            "  Smartphone: $150\n",
            "  Tablet: $200\n",
            "  Laptop: $400\n"
          ]
        }
      ],
      "source": [
        "# Display problem parameters\n",
        "print(\"Product Profit per Unit:\")\n",
        "for product in products:\n",
        "    print(f\"  {product}: ${profit[product]}\")"
      ]
    },
    {
      "cell_type": "code",
      "execution_count": null,
      "metadata": {
        "colab": {
          "base_uri": "https://localhost:8080/"
        },
        "id": "HH284pHUsrM-",
        "outputId": "6d9e6790-6b61-4313-b70c-58bfdfdab7b4"
      },
      "outputs": [
        {
          "name": "stdout",
          "output_type": "stream",
          "text": [
            "\n",
            "Resource Requirements per Unit:\n",
            "Product\t\tMaterial(kg)\tLabor(hrs)\tStorage(ft³)\n",
            "Smartphone\t2\t\t3\t\t1\n",
            "Tablet\t3\t\t4\t\t2\n",
            "Laptop\t5\t\t6\t\t3\n",
            "\n",
            "Available Resources:\n",
            "  Material: 1000\n",
            "  Labor: 1500\n",
            "  Storage: 800\n",
            "\n",
            "Market Demand Limits:\n",
            "  Smartphone: 200 units\n",
            "  Tablet: 150 units\n",
            "  Laptop: 100 units\n"
          ]
        }
      ],
      "source": [
        "print(\"\\nResource Requirements per Unit:\")\n",
        "print(\"Product\\t\\tMaterial(kg)\\tLabor(hrs)\\tStorage(ft³)\")\n",
        "for product in products:\n",
        "    req = resource_req[product]\n",
        "    print(f\"{product}\\t{req[0]}\\t\\t{req[1]}\\t\\t{req[2]}\")\n",
        "\n",
        "print(\"\\nAvailable Resources:\")\n",
        "for resource, amount in available_resources.items():\n",
        "    print(f\"  {resource}: {amount}\")\n",
        "\n",
        "print(\"\\nMarket Demand Limits:\")\n",
        "for product, limit in demand_limits.items():\n",
        "    print(f\"  {product}: {limit} units\")\n"
      ]
    },
    {
      "cell_type": "code",
      "execution_count": null,
      "metadata": {
        "colab": {
          "base_uri": "https://localhost:8080/"
        },
        "id": "o5dmxuKAsyoL",
        "outputId": "0c75618b-6a85-4be1-af87-408dd4ae7875"
      },
      "outputs": [
        {
          "name": "stdout",
          "output_type": "stream",
          "text": [
            "\n",
            "\n",
            "2. MATHEMATICAL MODEL\n",
            "------------------------------\n",
            "Decision Variables:\n",
            "  x1 = Number of Smartphones to produce\n",
            "  x2 = Number of Tablets to produce\n",
            "  x3 = Number of Laptops to produce\n",
            "\n",
            "Objective Function:\n",
            "  Maximize: 150*x1 + 200*x2 + 400*x3\n",
            "\n",
            "Constraints:\n",
            "  Material: 2*x1 + 3*x2 + 5*x3 ≤ 1000\n",
            "  Labor:    3*x1 + 4*x2 + 6*x3 ≤ 1500\n",
            "  Storage:  1*x1 + 2*x2 + 3*x3 ≤ 800\n",
            "  Demand:   x1 ≤ 200, x2 ≤ 150, x3 ≤ 100\n",
            "  Non-negativity: x1, x2, x3 ≥ 0\n"
          ]
        }
      ],
      "source": [
        "## 2. Mathematical Model Formulation\n",
        "print(\"\\n\\n2. MATHEMATICAL MODEL\")\n",
        "print(\"-\" * 30)\n",
        "\n",
        "print(\"Decision Variables:\")\n",
        "print(\"  x1 = Number of Smartphones to produce\")\n",
        "print(\"  x2 = Number of Tablets to produce\")\n",
        "print(\"  x3 = Number of Laptops to produce\")\n",
        "\n",
        "print(\"\\nObjective Function:\")\n",
        "print(\"  Maximize: 150*x1 + 200*x2 + 400*x3\")\n",
        "\n",
        "print(\"\\nConstraints:\")\n",
        "print(\"  Material: 2*x1 + 3*x2 + 5*x3 ≤ 1000\")\n",
        "print(\"  Labor:    3*x1 + 4*x2 + 6*x3 ≤ 1500\")\n",
        "print(\"  Storage:  1*x1 + 2*x2 + 3*x3 ≤ 800\")\n",
        "print(\"  Demand:   x1 ≤ 200, x2 ≤ 150, x3 ≤ 100\")\n",
        "print(\"  Non-negativity: x1, x2, x3 ≥ 0\")\n"
      ]
    },
    {
      "cell_type": "code",
      "execution_count": null,
      "metadata": {
        "colab": {
          "base_uri": "https://localhost:8080/"
        },
        "id": "vyjpbnijs4QT",
        "outputId": "b5adfeaf-09f6-4552-c649-5373e99c1f6c"
      },
      "outputs": [
        {
          "name": "stdout",
          "output_type": "stream",
          "text": [
            "\n",
            "\n",
            "3. SOLVING THE OPTIMIZATION PROBLEM\n",
            "----------------------------------------\n"
          ]
        }
      ],
      "source": [
        "## 3. Solve using PuLP\n",
        "print(\"\\n\\n3. SOLVING THE OPTIMIZATION PROBLEM\")\n",
        "print(\"-\" * 40)"
      ]
    },
    {
      "cell_type": "code",
      "execution_count": null,
      "metadata": {
        "id": "Q-ypXMnFs9Kx"
      },
      "outputs": [],
      "source": [
        "# Create the problem\n",
        "prob = pulp.LpProblem(\"Manufacturing_Optimization\", pulp.LpMaximize)"
      ]
    },
    {
      "cell_type": "code",
      "execution_count": null,
      "metadata": {
        "id": "qXyg2Pq7tBFN"
      },
      "outputs": [],
      "source": [
        "# Decision variables\n",
        "x = {}\n",
        "for product in products:\n",
        "    x[product] = pulp.LpVariable(f\"x_{product}\", lowBound=0, cat='Integer')"
      ]
    },
    {
      "cell_type": "code",
      "execution_count": null,
      "metadata": {
        "id": "rNtrEVGltE_q"
      },
      "outputs": [],
      "source": [
        "# Objective function\n",
        "prob += sum(profit[product] * x[product] for product in products), \"Total_Profit\""
      ]
    },
    {
      "cell_type": "code",
      "execution_count": null,
      "metadata": {
        "id": "HvLx3SjstJA7"
      },
      "outputs": [],
      "source": [
        "# Resource constraints\n",
        "resource_names = ['Material', 'Labor', 'Storage']\n",
        "for i, resource in enumerate(resource_names):\n",
        "    constraint = sum(resource_req[product][i] * x[product] for product in products)\n",
        "    prob += constraint <= available_resources[resource], f\"{resource}_Constraint\""
      ]
    },
    {
      "cell_type": "code",
      "execution_count": null,
      "metadata": {
        "id": "SUvdO6HwtOWL"
      },
      "outputs": [],
      "source": [
        "# Demand constraints\n",
        "for product in products:\n",
        "    prob += x[product] <= demand_limits[product], f\"Demand_{product}\""
      ]
    },
    {
      "cell_type": "code",
      "execution_count": null,
      "metadata": {
        "colab": {
          "base_uri": "https://localhost:8080/"
        },
        "id": "73VheNvKtSGR",
        "outputId": "7393cf8a-9e2e-49e2-e734-15bed03519a1"
      },
      "outputs": [
        {
          "name": "stdout",
          "output_type": "stream",
          "text": [
            "Linear Programming Problem Formulated:\n",
            "Manufacturing_Optimization:\n",
            "MAXIMIZE\n",
            "400*x_Laptop + 150*x_Smartphone + 200*x_Tablet + 0\n",
            "SUBJECT TO\n",
            "Material_Constraint: 5 x_Laptop + 2 x_Smartphone + 3 x_Tablet <= 1000\n",
            "\n",
            "Labor_Constraint: 6 x_Laptop + 3 x_Smartphone + 4 x_Tablet <= 1500\n",
            "\n",
            "Storage_Constraint: 3 x_Laptop + x_Smartphone + 2 x_Tablet <= 800\n",
            "\n",
            "Demand_Smartphone: x_Smartphone <= 200\n",
            "\n",
            "Demand_Tablet: x_Tablet <= 150\n",
            "\n",
            "Demand_Laptop: x_Laptop <= 100\n",
            "\n",
            "VARIABLES\n",
            "0 <= x_Laptop Integer\n",
            "0 <= x_Smartphone Integer\n",
            "0 <= x_Tablet Integer\n",
            "\n"
          ]
        }
      ],
      "source": [
        "# Display the problem\n",
        "print(\"Linear Programming Problem Formulated:\")\n",
        "print(prob)"
      ]
    },
    {
      "cell_type": "code",
      "execution_count": null,
      "metadata": {
        "colab": {
          "base_uri": "https://localhost:8080/"
        },
        "id": "I7kz77qStWDb",
        "outputId": "f0d6c325-f683-4fd5-87a7-540e9717b09e"
      },
      "outputs": [
        {
          "name": "stdout",
          "output_type": "stream",
          "text": [
            "\n",
            "Solving the problem...\n"
          ]
        },
        {
          "data": {
            "text/plain": [
              "1"
            ]
          },
          "execution_count": 22,
          "metadata": {},
          "output_type": "execute_result"
        }
      ],
      "source": [
        "# Solve the problem\n",
        "print(\"\\nSolving the problem...\")\n",
        "prob.solve(pulp.PULP_CBC_CMD(msg=0))"
      ]
    },
    {
      "cell_type": "code",
      "execution_count": null,
      "metadata": {
        "colab": {
          "base_uri": "https://localhost:8080/"
        },
        "id": "tCnZTWeMtbmn",
        "outputId": "fc0ea146-b11e-484a-e85c-b13a2f33349e"
      },
      "outputs": [
        {
          "name": "stdout",
          "output_type": "stream",
          "text": [
            "Solution Status: Optimal\n"
          ]
        }
      ],
      "source": [
        "# Check solution status\n",
        "status = pulp.LpStatus[prob.status]\n",
        "print(f\"Solution Status: {status}\")"
      ]
    },
    {
      "cell_type": "code",
      "execution_count": null,
      "metadata": {
        "colab": {
          "base_uri": "https://localhost:8080/"
        },
        "id": "5O5zoU5Ztfd7",
        "outputId": "cd579ddf-5de3-4b72-f8b3-db059dd570b3"
      },
      "outputs": [
        {
          "name": "stdout",
          "output_type": "stream",
          "text": [
            "\n",
            "\n",
            "4. OPTIMAL SOLUTION\n",
            "------------------------------\n"
          ]
        }
      ],
      "source": [
        "## 4. Results Analysis\n",
        "print(\"\\n\\n4. OPTIMAL SOLUTION\")\n",
        "print(\"-\" * 30)"
      ]
    },
    {
      "cell_type": "code",
      "execution_count": null,
      "metadata": {
        "colab": {
          "base_uri": "https://localhost:8080/"
        },
        "id": "1BWxXWqntjZv",
        "outputId": "b9325383-e084-4565-fec1-2557c4bac368"
      },
      "outputs": [
        {
          "name": "stdout",
          "output_type": "stream",
          "text": [
            "Optimal Production Plan:\n",
            "  Smartphone: 199 units (Profit: $29,850)\n",
            "  Tablet: 34 units (Profit: $6,800)\n",
            "  Laptop: 100 units (Profit: $40,000)\n",
            "\n",
            "Maximum Total Profit: $76,650\n",
            "\n",
            "\n",
            "RESOURCE UTILIZATION ANALYSIS\n",
            "-----------------------------------\n",
            "Material:\n",
            "  Used: 1000 / 1000 (100.0%)\n",
            "  Remaining: 0\n",
            "\n",
            "Labor:\n",
            "  Used: 1333 / 1500 (88.9%)\n",
            "  Remaining: 167\n",
            "\n",
            "Storage:\n",
            "  Used: 567 / 800 (70.9%)\n",
            "  Remaining: 233\n",
            "\n",
            "MARKET DEMAND ANALYSIS\n",
            "-------------------------\n",
            "Smartphone:\n",
            "  Produced: 199 / 200 units (99.5%)\n",
            "  Unused demand: 1 units\n",
            "\n",
            "Tablet:\n",
            "  Produced: 34 / 150 units (22.7%)\n",
            "  Unused demand: 116 units\n",
            "\n",
            "Laptop:\n",
            "  Produced: 100 / 100 units (100.0%)\n",
            "  Unused demand: 0 units\n",
            "\n"
          ]
        }
      ],
      "source": [
        "if status == 'Optimal':\n",
        "    # Extract solution\n",
        "    solution = {}\n",
        "    for product in products:\n",
        "        solution[product] = int(x[product].varValue)\n",
        "\n",
        "    print(\"Optimal Production Plan:\")\n",
        "    total_profit = 0\n",
        "    for product in products:\n",
        "        units = solution[product]\n",
        "        product_profit = units * profit[product]\n",
        "        total_profit += product_profit\n",
        "        print(f\"  {product}: {units} units (Profit: ${product_profit:,})\")\n",
        "\n",
        "    print(f\"\\nMaximum Total Profit: ${total_profit:,}\")\n",
        "\n",
        "    # Resource utilization analysis\n",
        "    print(\"\\n\\nRESOURCE UTILIZATION ANALYSIS\")\n",
        "    print(\"-\" * 35)\n",
        "\n",
        "    resource_usage = {}\n",
        "    utilization_rates = {}\n",
        "    for i, resource in enumerate(resource_names):\n",
        "        used = sum(resource_req[product][i] * solution[product] for product in products)\n",
        "        available = available_resources[resource]\n",
        "        utilization = (used / available) * 100\n",
        "\n",
        "        resource_usage[resource] = used\n",
        "        utilization_rates[resource] = utilization\n",
        "\n",
        "        print(f\"{resource}:\")\n",
        "        print(f\"  Used: {used} / {available} ({utilization:.1f}%)\")\n",
        "        print(f\"  Remaining: {available - used}\")\n",
        "        print()\n",
        "\n",
        "    # Market demand analysis\n",
        "    print(\"MARKET DEMAND ANALYSIS\")\n",
        "    print(\"-\" * 25)\n",
        "\n",
        "    for product in products:\n",
        "        produced = solution[product]\n",
        "        max_demand = demand_limits[product]\n",
        "        demand_fulfillment = (produced / max_demand) * 100\n",
        "        print(f\"{product}:\")\n",
        "        print(f\"  Produced: {produced} / {max_demand} units ({demand_fulfillment:.1f}%)\")\n",
        "        print(f\"  Unused demand: {max_demand - produced} units\")\n",
        "        print()\n",
        "\n",
        "else:\n",
        "    print(\"No optimal solution found!\")\n",
        "    solution = None\n"
      ]
    },
    {
      "cell_type": "code",
      "execution_count": null,
      "metadata": {
        "colab": {
          "base_uri": "https://localhost:8080/"
        },
        "id": "CGHlUvjbtpeH",
        "outputId": "309b7db4-bb6e-49e1-8ccc-891e1703aa14"
      },
      "outputs": [
        {
          "name": "stdout",
          "output_type": "stream",
          "text": [
            "\n",
            "\n",
            "5. SENSITIVITY ANALYSIS\n",
            "------------------------------\n"
          ]
        }
      ],
      "source": [
        "## 5. Sensitivity Analysis\n",
        "print(\"\\n\\n5. SENSITIVITY ANALYSIS\")\n",
        "print(\"-\" * 30)"
      ]
    },
    {
      "cell_type": "code",
      "execution_count": null,
      "metadata": {
        "colab": {
          "base_uri": "https://localhost:8080/"
        },
        "id": "-0nzLDjZuGzz",
        "outputId": "1d98a4f0-bed0-4b90-f60f-a7170f1ef05a"
      },
      "outputs": [
        {
          "name": "stdout",
          "output_type": "stream",
          "text": [
            "Impact of Increasing Resources by 10%:\n",
            "  Material: +$6,650 (8.68%)\n",
            "  Labor: +$0 (0.00%)\n",
            "  Storage: +$0 (0.00%)\n"
          ]
        }
      ],
      "source": [
        "if solution:\n",
        "    # Analyze impact of changing resource availability\n",
        "    print(\"Impact of Increasing Resources by 10%:\")\n",
        "\n",
        "    sensitivity_results = []\n",
        "\n",
        "    for resource in resource_names:\n",
        "        # Create new problem with increased resource\n",
        "        prob_sens = pulp.LpProblem(\"Sensitivity_Analysis\", pulp.LpMaximize)\n",
        "\n",
        "        # Same variables\n",
        "        x_sens = {}\n",
        "        for product in products:\n",
        "            x_sens[product] = pulp.LpVariable(f\"x_{product}_sens\", lowBound=0, cat='Integer')\n",
        "\n",
        "        # Same objective\n",
        "        prob_sens += sum(profit[product] * x_sens[product] for product in products)\n",
        "\n",
        "        # Modified constraints\n",
        "        for i, res in enumerate(resource_names):\n",
        "            constraint = sum(resource_req[product][i] * x_sens[product] for product in products)\n",
        "            if res == resource:\n",
        "                # Increase this resource by 10%\n",
        "                prob_sens += constraint <= available_resources[res] * 1.1\n",
        "            else:\n",
        "                prob_sens += constraint <= available_resources[res]\n",
        "\n",
        "        # Demand constraints\n",
        "        for product in products:\n",
        "            prob_sens += x_sens[product] <= demand_limits[product]\n",
        "\n",
        "        # Solve\n",
        "        prob_sens.solve(pulp.PULP_CBC_CMD(msg=0))\n",
        "\n",
        "        if pulp.LpStatus[prob_sens.status] == 'Optimal':\n",
        "            new_profit = pulp.value(prob_sens.objective)\n",
        "            profit_increase = new_profit - total_profit\n",
        "            sensitivity_results.append({\n",
        "                'Resource': resource,\n",
        "                'Original_Profit': total_profit,\n",
        "                'New_Profit': new_profit,\n",
        "                'Profit_Increase': profit_increase,\n",
        "                'Percentage_Increase': (profit_increase / total_profit) * 100\n",
        "            })\n",
        "\n",
        "            print(f\"  {resource}: +${profit_increase:,.0f} ({(profit_increase/total_profit)*100:.2f}%)\")"
      ]
    },
    {
      "cell_type": "code",
      "execution_count": null,
      "metadata": {
        "colab": {
          "base_uri": "https://localhost:8080/"
        },
        "id": "WhPVpOGMuP4O",
        "outputId": "c6969edb-8efa-46f1-d8fe-125e82d35c3d"
      },
      "outputs": [
        {
          "name": "stdout",
          "output_type": "stream",
          "text": [
            "\n",
            "\n",
            "6. CREATING VISUALIZATIONS\n",
            "-----------------------------------\n"
          ]
        }
      ],
      "source": [
        "## 6. Visualization\n",
        "print(\"\\n\\n6. CREATING VISUALIZATIONS\")\n",
        "print(\"-\" * 35)"
      ]
    },
    {
      "cell_type": "code",
      "execution_count": null,
      "metadata": {
        "colab": {
          "base_uri": "https://localhost:8080/",
          "height": 1000
        },
        "id": "O6NIR6B9uYbE",
        "outputId": "c5d7fb53-1ced-48f9-89c4-faf58f9ff6f7"
      },
      "outputs": [
        {
          "data": {
            "image/png": "[encoded data removed]",
            "text/plain": [
              "<Figure size 1500x1200 with 4 Axes>"
            ]
          },
          "metadata": {},
          "output_type": "display_data"
        },
        {
          "data": {
            "image/png": "[encoded data removed]",
            "text/plain": [
              "<Figure size 1000x600 with 1 Axes>"
            ]
          },
          "metadata": {},
          "output_type": "display_data"
        }
      ],
      "source": [
        "if solution:\n",
        "    # Create visualizations\n",
        "    fig, ((ax1, ax2), (ax3, ax4)) = plt.subplots(2, 2, figsize=(15, 12))\n",
        "    fig.suptitle('Manufacturing Optimization Results', fontsize=16, fontweight='bold')\n",
        "\n",
        "    # 1. Production quantities\n",
        "    ax1.bar(products, [solution[p] for p in products], color=['#FF6B6B', '#4ECDC4', '#45B7D1'])\n",
        "    ax1.set_title('Optimal Production Quantities')\n",
        "    ax1.set_ylabel('Units Produced')\n",
        "    ax1.set_xlabel('Products')\n",
        "    for i, product in enumerate(products):\n",
        "        ax1.text(i, solution[product] + 2, str(solution[product]),\n",
        "                ha='center', va='bottom', fontweight='bold')\n",
        "\n",
        "    # 2. Profit breakdown\n",
        "    profits = [solution[p] * profit[p] for p in products]\n",
        "    ax2.pie(profits, labels=products, autopct='%1.1f%%', startangle=90,\n",
        "            colors=['#FF6B6B', '#4ECDC4', '#45B7D1'])\n",
        "    ax2.set_title('Profit Distribution by Product')\n",
        "\n",
        "    # 3. Resource utilization\n",
        "    resources = list(resource_usage.keys())\n",
        "    utilization = [utilization_rates[r] for r in resources]\n",
        "    bars = ax3.bar(resources, utilization, color=['#FF9F43', '#10AC84', '#5F27CD'])\n",
        "    ax3.set_title('Resource Utilization (%)')\n",
        "    ax3.set_ylabel('Utilization Percentage')\n",
        "    ax3.set_ylim(0, 100)\n",
        "    ax3.axhline(y=100, color='red', linestyle='--', alpha=0.7)\n",
        "    for bar, util in zip(bars, utilization):\n",
        "        ax3.text(bar.get_x() + bar.get_width()/2, bar.get_height() + 1,\n",
        "                f'{util:.1f}%', ha='center', va='bottom', fontweight='bold')\n",
        "\n",
        "    # 4. Demand fulfillment\n",
        "    demand_fulfillment = [(solution[p] / demand_limits[p]) * 100 for p in products]\n",
        "    bars = ax4.bar(products, demand_fulfillment, color=['#FF6B6B', '#4ECDC4', '#45B7D1'])\n",
        "    ax4.set_title('Market Demand Fulfillment (%)')\n",
        "    ax4.set_ylabel('Fulfillment Percentage')\n",
        "    ax4.set_ylim(0, 100)\n",
        "    ax4.axhline(y=100, color='red', linestyle='--', alpha=0.7)\n",
        "    for bar, fulfill in zip(bars, demand_fulfillment):\n",
        "        ax4.text(bar.get_x() + bar.get_width()/2, bar.get_height() + 1,\n",
        "                f'{fulfill:.1f}%', ha='center', va='bottom', fontweight='bold')\n",
        "\n",
        "    plt.tight_layout()\n",
        "    plt.show()\n",
        "\n",
        "    # Sensitivity analysis chart\n",
        "    if sensitivity_results:\n",
        "        plt.figure(figsize=(10, 6))\n",
        "        resources_sens = [r['Resource'] for r in sensitivity_results]\n",
        "        increases = [r['Profit_Increase'] for r in sensitivity_results]\n",
        "\n",
        "        bars = plt.bar(resources_sens, increases, color=['#FF9F43', '#10AC84', '#5F27CD'])\n",
        "        plt.title('Sensitivity Analysis: Profit Increase from 10% Resource Boost')\n",
        "        plt.ylabel('Additional Profit ($)')\n",
        "        plt.xlabel('Resources')\n",
        "\n",
        "        for bar, increase in zip(bars, increases):\n",
        "            plt.text(bar.get_x() + bar.get_width()/2, bar.get_height() + 100,\n",
        "                    f'${increase:,.0f}', ha='center', va='bottom', fontweight='bold')\n",
        "\n",
        "        plt.tight_layout()\n",
        "        plt.show()"
      ]
    },
    {
      "cell_type": "code",
      "execution_count": 43,
      "metadata": {
        "colab": {
          "base_uri": "https://localhost:8080/"
        },
        "id": "5Es1bQM0uxMI",
        "outputId": "f7c26238-240f-48c9-a344-771746227e3d"
      },
      "outputs": [
        {
          "output_type": "stream",
          "name": "stdout",
          "text": [
            "\n",
            "\n",
            "7. BUSINESS RECOMMENDATIONS\n",
            "-----------------------------------\n",
            "Based on the optimization results:\n",
            "\n",
            "1. RESOURCE BOTTLENECK:\n",
            "   Material is the primary constraint (100.0% utilized)\n",
            "   Consider investing in additional material capacity\n",
            "\n",
            "2. PRODUCT FOCUS:\n",
            "   Highest margin product: Laptop ($400 per unit)\n",
            "\n",
            "3. INVESTMENT PRIORITY:\n",
            "   Best ROI: Expanding Material capacity\n",
            "   Expected additional profit: $6,650\n",
            "\n",
            "4. OPERATIONAL EFFICIENCY:\n",
            "   Underutilized resources: Storage\n",
            "   Consider reallocating or reducing these resources\n",
            "\n",
            "============================================================\n",
            "SUMMARY:\n",
            "Optimal production plan generates $76,650 in profit\n",
            "Key constraints and opportunities identified for future planning\n",
            "============================================================\n"
          ]
        }
      ],
      "source": [
        "## 7. Business Recommendations\n",
        "print(\"\\n\\n7. BUSINESS RECOMMENDATIONS\")\n",
        "print(\"-\" * 35)\n",
        "\n",
        "if solution:\n",
        "    print(\"Based on the optimization results:\")\n",
        "    print()\n",
        "\n",
        "    # Find bottleneck resource\n",
        "    max_util_resource = max(utilization_rates.keys(), key=lambda x: utilization_rates[x])\n",
        "    print(f\"1. RESOURCE BOTTLENECK:\")\n",
        "    print(f\"   {max_util_resource} is the primary constraint ({utilization_rates[max_util_resource]:.1f}% utilized)\")\n",
        "    print(f\"   Consider investing in additional {max_util_resource.lower()} capacity\")\n",
        "    print()\n",
        "\n",
        "    # Product focus\n",
        "    profit_per_unit = [(p, profit[p]) for p in products]\n",
        "    profit_per_unit.sort(key=lambda x: x[1], reverse=True)\n",
        "    print(f\"2. PRODUCT FOCUS:\")\n",
        "    print(f\"   Highest margin product: {profit_per_unit[0][0]} (${profit_per_unit[0][1]} per unit)\")\n",
        "\n",
        "    # Check if we're producing at capacity for high-margin products\n",
        "    high_margin_product = profit_per_unit[0][0]\n",
        "    if solution[high_margin_product] < demand_limits[high_margin_product]:\n",
        "        print(f\"   Opportunity: Increase {high_margin_product} production if possible\")\n",
        "    print()\n",
        "    # Sensitivity insights\n",
        "    if sensitivity_results:\n",
        "        best_investment = max(sensitivity_results, key=lambda x: x['Profit_Increase'])\n",
        "        print(f\"3. INVESTMENT PRIORITY:\")\n",
        "        print(f\"   Best ROI: Expanding {best_investment['Resource']} capacity\")\n",
        "        print(f\"   Expected additional profit: ${best_investment['Profit_Increase']:,.0f}\")\n",
        "    print()\n",
        "    print(\"4. OPERATIONAL EFFICIENCY:\")\n",
        "    underutilized = [r for r, u in utilization_rates.items() if u < 80]\n",
        "    if underutilized:\n",
        "        print(f\"   Underutilized resources: {', '.join(underutilized)}\")\n",
        "        print(\"   Consider reallocating or reducing these resources\")\n",
        "\n",
        "    print(\"\\n\" + \"=\"*60)\n",
        "    print(\"SUMMARY:\")\n",
        "    print(f\"Optimal production plan generates ${total_profit:,} in profit\")\n",
        "    print(\"Key constraints and opportunities identified for future planning\")\n",
        "    print(\"=\"*60)\n",
        "\n"
      ]
    },
    {
      "cell_type": "code",
      "source": [
        "## 8. Export Results\n",
        "print(\"\\n\\n8. EXPORTING RESULTS\")\n",
        "print(\"-\" * 25)\n",
        "\n",
        "if solution:\n",
        "    # Create results dataframe\n",
        "    results_df = pd.DataFrame({\n",
        "        'Product': products,\n",
        "        'Optimal_Production': [solution[p] for p in products],\n",
        "        'Unit_Profit': [profit[p] for p in products],\n",
        "        'Total_Profit': [solution[p] * profit[p] for p in products],\n",
        "        'Market_Demand': [demand_limits[p] for p in products],\n",
        "        'Demand_Fulfillment_%': [(solution[p] / demand_limits[p]) * 100 for p in products]\n",
        "    })\n",
        "\n",
        "    print(\"Production Results Summary:\")\n",
        "    print(results_df.to_string(index=False))\n",
        "\n",
        "    # Resource utilization dataframe\n",
        "    resource_df = pd.DataFrame({\n",
        "        'Resource': resource_names,\n",
        "        'Available': [available_resources[r] for r in resource_names],\n",
        "        'Used': [resource_usage[r] for r in resource_names],\n",
        "        'Utilization_%': [utilization_rates[r] for r in resource_names],\n",
        "        'Remaining': [available_resources[r] - resource_usage[r] for r in resource_names]\n",
        "    })\n",
        "\n",
        "    print(\"\\nResource Utilization Summary:\")\n",
        "    print(resource_df.to_string(index=False))\n",
        "\n",
        "    print(f\"\\nResults saved to memory. Total profit: ${total_profit:,}\")\n",
        "\n",
        "print(\"\\n\" + \"=\"*60)\n",
        "print(\"PROJECT COMPLETED SUCCESSFULLY!\")\n",
        "print(\"Linear Programming optimization solved the manufacturing problem\")\n",
        "print(\"=\"*60)"
      ],
      "metadata": {
        "colab": {
          "base_uri": "https://localhost:8080/"
        },
        "id": "Z0e8Mwc4xiwe",
        "outputId": "b9a4ff3c-d6fc-4193-fcc8-93fe9d4e318c"
      },
      "execution_count": 44,
      "outputs": [
        {
          "output_type": "stream",
          "name": "stdout",
          "text": [
            "\n",
            "\n",
            "8. EXPORTING RESULTS\n",
            "-------------------------\n",
            "Production Results Summary:\n",
            "   Product  Optimal_Production  Unit_Profit  Total_Profit  Market_Demand  Demand_Fulfillment_%\n",
            "Smartphone                 199          150         29850            200             99.500000\n",
            "    Tablet                  34          200          6800            150             22.666667\n",
            "    Laptop                 100          400         40000            100            100.000000\n",
            "\n",
            "Resource Utilization Summary:\n",
            "Resource  Available  Used  Utilization_%  Remaining\n",
            "Material       1000  1000     100.000000          0\n",
            "   Labor       1500  1333      88.866667        167\n",
            " Storage        800   567      70.875000        233\n",
            "\n",
            "Results saved to memory. Total profit: $76,650\n",
            "\n",
            "============================================================\n",
            "PROJECT COMPLETED SUCCESSFULLY!\n",
            "Linear Programming optimization solved the manufacturing problem\n",
            "============================================================\n"
          ]
        }
      ]
    }
  ],
  "metadata": {
    "colab": {
      "provenance": [],
      "authorship_tag": "ABX9TyNt28ePDstTW/9jvLDV12eo",
      "include_colab_link": true
    },
    "kernelspec": {
      "display_name": "Python 3",
      "name": "python3"
    },
    "language_info": {
      "name": "python"
    }
  },
  "nbformat": 4,
  "nbformat_minor": 0
}
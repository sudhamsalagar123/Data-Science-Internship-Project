{
  "nbformat": 4,
  "nbformat_minor": 0,
  "metadata": {
    "colab": {
      "provenance": [],
      "authorship_tag": "ABX9TyM4NfhfdlXbGmeWSoW4XWun",
      "include_colab_link": true
    },
    "kernelspec": {
      "name": "python3",
      "display_name": "Python 3"
    },
    "language_info": {
      "name": "python"
    }
  },
  "cells": [
    {
      "cell_type": "markdown",
      "metadata": {
        "id": "view-in-github",
        "colab_type": "text"
      },
      "source": [
        "<a href=\"https://colab.research.google.com/github/sudhamsalagar123/Data-Science-Internship-Project/blob/main/Machie_learning_1_0.ipynb\" target=\"_parent\"><img src=\"https://colab.research.google.com/assets/colab-badge.svg\" alt=\"Open In Colab\"/></a>"
      ]
    },
    {
      "cell_type": "markdown",
      "source": [
        "# **1.what is machine learning**"
      ],
      "metadata": {
        "id": "f6glfIOy1VA3"
      }
    },
    {
      "cell_type": "markdown",
      "source": [
        "Machine learning is sceince of getting Computer to learn and act like humans do,and Improve their learning over time in automation fashion by reading their data and information in the form of obeseravtion and real World information"
      ],
      "metadata": {
        "id": "GK6DkG8d1qKr"
      }
    },
    {
      "cell_type": "markdown",
      "source": [
        "# **2.How does machine learning works**"
      ],
      "metadata": {
        "id": "SiCA2ILV2iu9"
      }
    },
    {
      "cell_type": "markdown",
      "source": [
        "A machine learning learn from historical data ,builds the prediction models and whenever it releives new data predict the output for it\n"
      ],
      "metadata": {
        "id": "V6QbQXFX3Aas"
      }
    },
    {
      "cell_type": "markdown",
      "source": [
        "![ml.jpeg](data:image/jpeg;base64,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)"
      ],
      "metadata": {
        "id": "PIX7YYc95GZ4"
      }
    },
    {
      "cell_type": "markdown",
      "source": [
        "**Advantages of Machine Learning:**"
      ],
      "metadata": {
        "id": "QBtjVew56C5r"
      }
    },
    {
      "cell_type": "markdown",
      "source": [
        "Automation – Reduces human intervention in tasks.\n",
        "\n",
        "Improved Accuracy – Learns from data to make better predictions.\n",
        "\n",
        "Handles Large Data – Efficiently processes and analyzes big datasets.\n",
        "\n",
        "Adaptability – Models can update with new data.\n",
        "\n",
        "Wide Applications – Used in healthcare, finance, marketing, etc.\n",
        "\n",
        "Pattern Recognition – Detects trends and patterns not obvious to humans.\n",
        "\n",
        "Personalization – Enables recommendations (e.g., Netflix, Amazon)."
      ],
      "metadata": {
        "id": "ckjVdCMW6Y9J"
      }
    },
    {
      "cell_type": "markdown",
      "source": [
        "**Disadvantages of Machine Learning:**"
      ],
      "metadata": {
        "id": "P3--vg9767M5"
      }
    },
    {
      "cell_type": "markdown",
      "source": [
        "Data Dependency – Requires large and quality data for accuracy.\n",
        "\n",
        "Training Time – Some models need long time to train.\n",
        "\n",
        "Interpretability – Many ML models are like \"black boxes.\"\n",
        "\n",
        "Costly – Requires computing power, tools, and skilled professionals.\n",
        "\n",
        "Overfitting – Can perform well on training data but poorly on new data.\n",
        "\n",
        "Bias in Data – Leads to biased or unfair outcomes.\n",
        "\n",
        "Security Risks – Vulnerable to adversarial attacks or data misuse."
      ],
      "metadata": {
        "id": "sAieB-_R60pv"
      }
    },
    {
      "cell_type": "code",
      "source": [],
      "metadata": {
        "id": "sNxfIBO06q5k"
      },
      "execution_count": null,
      "outputs": []
    }
  ]
}